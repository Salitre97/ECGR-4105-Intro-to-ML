{
  "cells": [
    {
      "cell_type": "markdown",
      "metadata": {
        "id": "view-in-github",
        "colab_type": "text"
      },
      "source": [
        "<a href=\"https://colab.research.google.com/github/Salitre97/ECGR-4105-Intro_to_ML/blob/main/Homework6.ipynb\" target=\"_parent\"><img src=\"https://colab.research.google.com/assets/colab-badge.svg\" alt=\"Open In Colab\"/></a>"
      ]
    },
    {
      "cell_type": "code",
      "execution_count": 1,
      "metadata": {
        "id": "EunvHX-Vl3D0"
      },
      "outputs": [],
      "source": [
        "import pandas as pd\n",
        "import numpy as np\n",
        "import torch\n",
        "from sklearn.preprocessing import StandardScaler\n",
        "import torch.nn as nn\n",
        "import torch.optim as optim\n",
        "import torch.nn.functional as F\n",
        "from collections import OrderedDict\n",
        "from sklearn.model_selection import train_test_split\n",
        "from matplotlib import pyplot as plt\n",
        "from torch.utils.data import DataLoader, TensorDataset\n",
        "import torchvision.transforms as transforms\n",
        "import time\n",
        "import torchvision\n",
        "from torchvision import transforms\n"
      ]
    },
    {
      "cell_type": "markdown",
      "metadata": {
        "id": "uq2eWlXTin_x"
      },
      "source": []
    },
    {
      "cell_type": "code",
      "execution_count": null,
      "metadata": {
        "id": "SxB7nqGvm1v1"
      },
      "outputs": [],
      "source": [
        "file_id = '1yvScnvrecfBf0cSLq76kRENXdi2_N-lN'\n",
        "\n",
        "url = f'https://drive.google.com/uc?id={file_id}'"
      ]
    },
    {
      "cell_type": "markdown",
      "metadata": {
        "id": "KAHSgHUpyO8M"
      },
      "source": [
        "# preprocessing"
      ]
    },
    {
      "cell_type": "code",
      "execution_count": null,
      "metadata": {
        "id": "E0cvcXFEmmY-"
      },
      "outputs": [],
      "source": [
        "# Load your dataset\n",
        "housing_data = pd.DataFrame(pd.read_csv(url))\n",
        "#housing_data.head()"
      ]
    },
    {
      "cell_type": "code",
      "execution_count": null,
      "metadata": {
        "id": "Wbh2Wo80pgpq"
      },
      "outputs": [],
      "source": [
        "# Replace 'yes' and 'no' with 1 and 0\n",
        "housing_data.replace({'yes': 1, 'no': 0}, inplace=True)\n",
        "housing_data = pd.get_dummies(housing_data, columns=['furnishingstatus'])\n",
        "\n",
        "housing_data.head(10)"
      ]
    },
    {
      "cell_type": "code",
      "execution_count": null,
      "metadata": {
        "id": "sjrMuI7Lri2a"
      },
      "outputs": [],
      "source": [
        "# Checking Null values\n",
        "housing_data.isnull().sum()*100/housing_data.shape[0]\n"
      ]
    },
    {
      "cell_type": "code",
      "execution_count": null,
      "metadata": {
        "id": "3WzP1oYKrrHY"
      },
      "outputs": [],
      "source": [
        "housing_data.shape"
      ]
    },
    {
      "cell_type": "code",
      "execution_count": null,
      "metadata": {
        "id": "6NmRqjUZrwMg"
      },
      "outputs": [],
      "source": [
        "# features for training\n",
        "\n",
        "features = [col for col in housing_data.columns if col != 'price']\n",
        "\n",
        "# Extract input and output values for training\n",
        "x = housing_data[features].values\n",
        "y = housing_data['price'].values.reshape(-1,1)\n",
        "\n",
        "# Standardize the data\n",
        "scaler = StandardScaler()\n",
        "x_scaled = scaler.fit_transform(x)\n",
        "\n",
        "x_scaled.shape, y.shape\n",
        "\n",
        "print(features)"
      ]
    },
    {
      "cell_type": "code",
      "execution_count": null,
      "metadata": {
        "id": "jVp67Pv2BGVU"
      },
      "outputs": [],
      "source": [
        "# Split data: validation set = 20 percent\n",
        "x_train, x_val, y_train, y_val = train_test_split(x_scaled, y, test_size=0.2, random_state=0)\n",
        "\n",
        "# Convert to Tensor\n",
        "x_train_tensor= torch.tensor(x_train, dtype=torch.float32)\n",
        "x_val_tensor = torch.tensor(x_val, dtype=torch.float32)\n",
        "y_train_tensor = torch.tensor(y_train, dtype=torch.float32)\n",
        "y_val_tensor = torch.tensor(y_val, dtype=torch.float32)\n",
        "\n",
        "x_train_tensor.shape[1]"
      ]
    },
    {
      "cell_type": "markdown",
      "metadata": {
        "id": "PYohEojiu2XT"
      },
      "source": [
        "#Problem 1a"
      ]
    },
    {
      "cell_type": "code",
      "execution_count": null,
      "metadata": {
        "id": "K6OUbrBVRH68"
      },
      "outputs": [],
      "source": [
        "# Training loop for nueral network\n",
        "def training_loop(n_epochs, optimizer, model, loss_fn, x_train, x_val, y_train, y_val):\n",
        "    train_losses = []\n",
        "    val_losses = []\n",
        "\n",
        "    for epoch in range(1, n_epochs + 1):\n",
        "        p_train = model(x_train)\n",
        "        loss_train = loss_fn(p_train, y_train)\n",
        "\n",
        "        p_val = model(x_val)\n",
        "        loss_val = loss_fn(p_val, y_val)\n",
        "\n",
        "        optimizer.zero_grad()\n",
        "        loss_train.backward()\n",
        "        optimizer.step()\n",
        "\n",
        "        train_losses.append(loss_train.detach().item())\n",
        "        val_losses.append(loss_val.detach().item())\n",
        "\n",
        "        if epoch == 1 or epoch % 500 == 0:\n",
        "            print(f\"Epoch {epoch}, Training loss {loss_train.item():.4f},\"f\" Validation loss {loss_val.item():.4f}\")\n",
        "\n",
        "    return train_losses, val_losses"
      ]
    },
    {
      "cell_type": "code",
      "execution_count": null,
      "metadata": {
        "id": "thP_ropV4ZLg"
      },
      "outputs": [],
      "source": [
        "'''\n",
        "class SimpleNN(nn.Module):\n",
        "    def __init__(self):\n",
        "        super().__init__()\n",
        "\n",
        "        self.hidden = nn.Linear(14, 32)\n",
        "        self.output = nn.Linear(32, 1)\n",
        "\n",
        "    def forward(self, input):\n",
        "        input = F.relu(self.hidden(input))\n",
        "        input = self.output(input)\n",
        "\n",
        "        return input\n",
        "'''"
      ]
    },
    {
      "cell_type": "code",
      "execution_count": null,
      "metadata": {
        "id": "CQVzXuxNJ62e"
      },
      "outputs": [],
      "source": [
        "# Initialize the model\n",
        "#model1 = SimpleNN()\n",
        "neuron_count = 32\n",
        "input = x_train_tensor.shape[1]\n",
        "\n",
        "model1 = nn.Sequential(OrderedDict([\n",
        "    ('hidden_linear', nn.Linear(input, neuron_count)),\n",
        "    ('hidden_activation', nn.Tanh()),\n",
        "    ('output_linear', nn.Linear(neuron_count, 1))\n",
        "]))\n",
        "\n",
        "# Loss and optimizer\n",
        "loss_fn = nn.MSELoss()\n",
        "optimizer1 = optim.SGD(model1.parameters(), lr=0.01)"
      ]
    },
    {
      "cell_type": "code",
      "execution_count": null,
      "metadata": {
        "id": "SxzPMgsPASKp"
      },
      "outputs": [],
      "source": [
        "train_losses1, val_losses1 = training_loop(\n",
        "    n_epochs = 10000,\n",
        "    optimizer = optimizer1,\n",
        "    model = model1,\n",
        "    loss_fn = loss_fn,\n",
        "    x_train = x_train_tensor,\n",
        "    x_val = x_val_tensor,\n",
        "    y_train = y_train_tensor,\n",
        "    y_val = y_val_tensor)"
      ]
    },
    {
      "cell_type": "markdown",
      "metadata": {
        "id": "UvyCe0uJuwnz"
      },
      "source": [
        "#Problem 1b\n",
        "\n"
      ]
    },
    {
      "cell_type": "code",
      "execution_count": null,
      "metadata": {
        "id": "sWcA01QOwlM8"
      },
      "outputs": [],
      "source": [
        "'''\n",
        "class MultiLayerNN(nn.Module):\n",
        "    def __init__(self):\n",
        "        super().__init__()\n",
        "\n",
        "        # Define first hidden layer\n",
        "        self.hidden1 = nn.Linear(14, 32)\n",
        "        # Define second hidden layer\n",
        "        self.hidden2 = nn.Linear(32, 64)\n",
        "        # Define third hidden layer\n",
        "        self.hidden3 = nn.Linear(64, 16)\n",
        "        # Define the output layer\n",
        "        self.output = nn.Linear(16, 1)\n",
        "\n",
        "    def forward(self, input):\n",
        "        # Pass input through the first hidden layer\n",
        "        input = F.leaky_relu(self.hidden1(input))\n",
        "        # Pass through the second hidden layer\n",
        "        input = F.leaky_relu(self.hidden2(input))\n",
        "        # Pass through the second hidden layer\n",
        "        input = F.leaky_relu(self.hidden3(input))\n",
        "        # Output layer\n",
        "        input = self.output(input)\n",
        "\n",
        "        return input\n",
        "'''"
      ]
    },
    {
      "cell_type": "code",
      "execution_count": null,
      "metadata": {
        "id": "_-jRzPgq0w6M"
      },
      "outputs": [],
      "source": [
        "#model2 = MultiLayerNN()\n",
        "input = x_train_tensor.shape[1]\n",
        "neuron_count1 = 32\n",
        "nueron_count2 = 64\n",
        "neuron_count3 = 16\n",
        "\n",
        "model2 =  nn.Sequential(OrderedDict([\n",
        "    ('hidden_linear1', nn.Linear(input, neuron_count1)),\n",
        "    ('hidden_activation1', nn.Tanh()),\n",
        "    ('hidden_linear2', nn.Linear(neuron_count1, nueron_count2)),\n",
        "    ('hidden_activation2', nn.Tanh()),\n",
        "    ('hidden_linear3', nn.Linear(nueron_count2, neuron_count3)),\n",
        "    ('hidden_activation3', nn.Tanh()),\n",
        "    ('output_linear', nn.Linear(neuron_count3, 1)),\n",
        "]))\n",
        "optimizer2 = optim.SGD(model2.parameters(), lr=0.01)\n",
        "loss_fn = nn.MSELoss()\n"
      ]
    },
    {
      "cell_type": "code",
      "execution_count": null,
      "metadata": {
        "id": "sE2VEWgwQLM8"
      },
      "outputs": [],
      "source": [
        "\n",
        "# Train the model\n",
        "train_losses2, val_losses2 = training_loop(\n",
        "    n_epochs = 3000,\n",
        "    optimizer = optimizer2,\n",
        "    model = model2,\n",
        "    loss_fn = loss_fn,\n",
        "    x_train = x_train_tensor,\n",
        "    x_val = x_val_tensor,\n",
        "    y_train = y_train_tensor,\n",
        "    y_val = y_val_tensor)"
      ]
    },
    {
      "cell_type": "code",
      "execution_count": 20,
      "metadata": {
        "id": "KsW-kMB_z0AE",
        "colab": {
          "base_uri": "https://localhost:8080/",
          "height": 446
        },
        "outputId": "671b971a-13c8-427f-901a-0765c12544c6"
      },
      "outputs": [
        {
          "output_type": "display_data",
          "data": {
            "text/plain": [
              "<Figure size 2000x500 with 2 Axes>"
            ],
            "image/png": "[encoded data removed]"
          },
          "metadata": {}
        }
      ],
      "source": [
        "plt.figure(figsize=(20,5))\n",
        "\n",
        "plt.subplot(1,2,1)\n",
        "# Plot both training and validation loss\n",
        "plt.plot(val_losses1, label='Validation Loss')\n",
        "plt.plot(train_losses1, label='Training Loss')\n",
        "plt.title('Loss for 1 hidden layer')\n",
        "plt.xlabel('Epochs')\n",
        "plt.ylabel('Loss')\n",
        "plt.legend()\n",
        "\n",
        "plt.subplot(1, 2, 2)\n",
        "# Plot both training and validation loss\n",
        "plt.plot(val_losses2, label='Validation Loss')\n",
        "plt.plot(train_losses2, label='Training Loss')\n",
        "plt.title('Loss for 3 hidden layer')\n",
        "plt.xlabel('Epochs')\n",
        "plt.ylabel('Loss')\n",
        "plt.legend()\n",
        "plt.show()"
      ]
    },
    {
      "cell_type": "markdown",
      "metadata": {
        "id": "qGrzZ2rqURO2"
      },
      "source": [
        "#Problem 2a\n"
      ]
    },
    {
      "cell_type": "code",
      "execution_count": 4,
      "metadata": {
        "id": "pby_Vs_1UWhh"
      },
      "outputs": [],
      "source": [
        "from torchvision import datasets"
      ]
    },
    {
      "cell_type": "code",
      "execution_count": 5,
      "metadata": {
        "colab": {
          "base_uri": "https://localhost:8080/"
        },
        "id": "jDDnM3SMU9BB",
        "outputId": "367b9981-1b35-4415-929d-d634defda5aa"
      },
      "outputs": [
        {
          "output_type": "stream",
          "name": "stdout",
          "text": [
            "Downloading https://www.cs.toronto.edu/~kriz/cifar-10-python.tar.gz to ../data-unversioned/p1ch7/cifar-10-python.tar.gz\n"
          ]
        },
        {
          "output_type": "stream",
          "name": "stderr",
          "text": [
            "100%|██████████| 170498071/170498071 [00:03<00:00, 47565818.89it/s]\n"
          ]
        },
        {
          "output_type": "stream",
          "name": "stdout",
          "text": [
            "Extracting ../data-unversioned/p1ch7/cifar-10-python.tar.gz to ../data-unversioned/p1ch7/\n",
            "Files already downloaded and verified\n"
          ]
        }
      ],
      "source": [
        "'''\n",
        "data_path = '../data-unversioned/p1ch7/'\n",
        "cifar10 = datasets.CIFAR10(data_path, train=True, download=True)\n",
        "cifar10_val = datasets.CIFAR10(data_path, train=False, download=True)\n",
        "'''"
      ]
    },
    {
      "cell_type": "code",
      "source": [
        "# Load and transform the CIFAR-10 dataset\n",
        "transform = transforms.Compose([\n",
        "    transforms.ToTensor(),\n",
        "    transforms.Normalize((0.5, 0.5, 0.5), (0.5, 0.5, 0.5)) # Normalize the images\n",
        "])\n",
        "\n",
        "trainset = torchvision.datasets.CIFAR10(root='./data', train=True, download=True, transform=transform)\n",
        "trainloader = torch.utils.data.DataLoader(trainset, batch_size=64, shuffle=True)"
      ],
      "metadata": {
        "colab": {
          "base_uri": "https://localhost:8080/"
        },
        "id": "jovCQ5TfTMBI",
        "outputId": "2d9994ee-e526-4b00-9b81-5b16f4c13f6d"
      },
      "execution_count": 15,
      "outputs": [
        {
          "output_type": "stream",
          "name": "stdout",
          "text": [
            "Files already downloaded and verified\n"
          ]
        }
      ]
    },
    {
      "cell_type": "code",
      "execution_count": 18,
      "metadata": {
        "colab": {
          "base_uri": "https://localhost:8080/"
        },
        "id": "WDhRBDPlWGLZ",
        "outputId": "3f4ac54d-919d-475b-f54c-4c6541e6a243"
      },
      "outputs": [
        {
          "output_type": "stream",
          "name": "stdout",
          "text": [
            "Files already downloaded and verified\n",
            "Files already downloaded and verified\n",
            "Epoch: 0, Average Loss: 1.8726297953854436\n",
            "Epoch: 1, Average Loss: 1.7568457000090947\n",
            "Epoch: 2, Average Loss: 1.715541638986534\n",
            "Epoch: 3, Average Loss: 1.686918279551484\n",
            "Epoch: 4, Average Loss: 1.660105368060529\n",
            "Epoch: 5, Average Loss: 1.636833547021422\n",
            "Epoch: 6, Average Loss: 1.6167963578572968\n",
            "Epoch: 7, Average Loss: 1.594836446482812\n",
            "Epoch: 8, Average Loss: 1.5750123155696312\n",
            "Epoch: 9, Average Loss: 1.5555073054855133\n",
            "Epoch: 10, Average Loss: 1.5351540062128735\n",
            "Epoch: 11, Average Loss: 1.5151189146444315\n",
            "Epoch: 12, Average Loss: 1.4960183132335048\n",
            "Epoch: 13, Average Loss: 1.475952383197482\n",
            "Epoch: 14, Average Loss: 1.4568614077080242\n",
            "Epoch: 15, Average Loss: 1.436964368881167\n",
            "Epoch: 16, Average Loss: 1.4177941806481014\n",
            "Epoch: 17, Average Loss: 1.3985638764813124\n",
            "Epoch: 18, Average Loss: 1.3804230093955994\n",
            "Epoch: 19, Average Loss: 1.362308737871897\n",
            "Epoch: 20, Average Loss: 1.3427568081852115\n",
            "Epoch: 21, Average Loss: 1.3251356370461262\n",
            "Epoch: 22, Average Loss: 1.3074241102961324\n",
            "Epoch: 23, Average Loss: 1.288194871695755\n",
            "Epoch: 24, Average Loss: 1.2706682310842188\n",
            "Epoch: 25, Average Loss: 1.2532539270113192\n",
            "Epoch: 26, Average Loss: 1.2356608226476118\n",
            "Epoch: 27, Average Loss: 1.218182032141844\n",
            "Epoch: 28, Average Loss: 1.2003923249823967\n",
            "Epoch: 29, Average Loss: 1.181871957410022\n",
            "Epoch: 30, Average Loss: 1.1662738177629992\n",
            "Epoch: 31, Average Loss: 1.1465276458379252\n",
            "Epoch: 32, Average Loss: 1.12977560157971\n",
            "Epoch: 33, Average Loss: 1.11284225889484\n",
            "Epoch: 34, Average Loss: 1.0941797545956224\n",
            "Epoch: 35, Average Loss: 1.0782622593595548\n",
            "Epoch: 36, Average Loss: 1.0613102562287275\n",
            "Epoch: 37, Average Loss: 1.043320681737817\n",
            "Epoch: 38, Average Loss: 1.0266044634534879\n",
            "Epoch: 39, Average Loss: 1.0095141374546548\n",
            "Epoch: 40, Average Loss: 0.9929570998529644\n",
            "Epoch: 41, Average Loss: 0.976004999845534\n",
            "Epoch: 42, Average Loss: 0.9586519029591699\n",
            "Epoch: 43, Average Loss: 0.9427581061335171\n",
            "Epoch: 44, Average Loss: 0.9252673713752376\n",
            "Epoch: 45, Average Loss: 0.9101148808703703\n",
            "Epoch: 46, Average Loss: 0.8934928572086422\n",
            "Epoch: 47, Average Loss: 0.8778634334311766\n",
            "Epoch: 48, Average Loss: 0.8616718050006711\n",
            "Epoch: 49, Average Loss: 0.8450551632115298\n",
            "Epoch: 50, Average Loss: 0.8288168316835638\n",
            "Epoch: 51, Average Loss: 0.8140116169324616\n",
            "Epoch: 52, Average Loss: 0.7981957584009756\n",
            "Epoch: 53, Average Loss: 0.7827818780908804\n",
            "Epoch: 54, Average Loss: 0.7679555176392846\n",
            "Epoch: 55, Average Loss: 0.7532966773375831\n",
            "Epoch: 56, Average Loss: 0.738295083117607\n",
            "Epoch: 57, Average Loss: 0.7227538821413694\n",
            "Epoch: 58, Average Loss: 0.7085595883600547\n",
            "Epoch: 59, Average Loss: 0.6935330342758647\n",
            "Epoch: 60, Average Loss: 0.6785482942600689\n",
            "Epoch: 61, Average Loss: 0.665383383898479\n",
            "Epoch: 62, Average Loss: 0.6524365410170592\n",
            "Epoch: 63, Average Loss: 0.6387286949569307\n",
            "Epoch: 64, Average Loss: 0.6234555463580524\n",
            "Epoch: 65, Average Loss: 0.6118042404999209\n",
            "Epoch: 66, Average Loss: 0.5981993032690814\n",
            "Epoch: 67, Average Loss: 0.5857203721314135\n",
            "Epoch: 68, Average Loss: 0.5718732521585796\n",
            "Epoch: 69, Average Loss: 0.5591330545790055\n",
            "Epoch: 70, Average Loss: 0.5464015695673731\n",
            "Epoch: 71, Average Loss: 0.5355481805703829\n",
            "Epoch: 72, Average Loss: 0.5221887798336766\n",
            "Epoch: 73, Average Loss: 0.5102514575814348\n",
            "Epoch: 74, Average Loss: 0.4983815273360523\n",
            "Epoch: 75, Average Loss: 0.487951428650895\n",
            "Epoch: 76, Average Loss: 0.47573747251497206\n",
            "Epoch: 77, Average Loss: 0.46475836615580735\n",
            "Epoch: 78, Average Loss: 0.45376604159012474\n",
            "Epoch: 79, Average Loss: 0.4433375497722565\n",
            "Epoch: 80, Average Loss: 0.43291770866917223\n",
            "Epoch: 81, Average Loss: 0.42296462012526326\n",
            "Epoch: 82, Average Loss: 0.41268775343437636\n",
            "Epoch: 83, Average Loss: 0.4041541726769084\n",
            "Epoch: 84, Average Loss: 0.39334773689584657\n",
            "Epoch: 85, Average Loss: 0.3842187207906752\n",
            "Epoch: 86, Average Loss: 0.3748546466231346\n",
            "Epoch: 87, Average Loss: 0.36619449963273903\n",
            "Epoch: 88, Average Loss: 0.35764431267443214\n",
            "Epoch: 89, Average Loss: 0.3475067307958213\n",
            "Epoch: 90, Average Loss: 0.3393841088580353\n",
            "Epoch: 91, Average Loss: 0.33045299924776683\n",
            "Epoch: 92, Average Loss: 0.3232309615901669\n",
            "Epoch: 93, Average Loss: 0.31579809799752273\n",
            "Epoch: 94, Average Loss: 0.30826116534297726\n",
            "Epoch: 95, Average Loss: 0.30054042882779064\n",
            "Epoch: 96, Average Loss: 0.2931308681169129\n",
            "Epoch: 97, Average Loss: 0.2851000900959115\n",
            "Epoch: 98, Average Loss: 0.2779883300251973\n",
            "Epoch: 99, Average Loss: 0.2725008686675745\n",
            "Training completed in 1623.39 seconds.\n",
            "Accuracy of the network on the test images: 49.37 %\n"
          ]
        }
      ],
      "source": [
        "# Load and transform the CIFAR-10 dataset\n",
        "transform = transforms.Compose([\n",
        "    transforms.ToTensor(),\n",
        "    transforms.Normalize((0.5, 0.5, 0.5), (0.5, 0.5, 0.5)) # Normalize the images\n",
        "])\n",
        "\n",
        "trainset = torchvision.datasets.CIFAR10(root='./data', train=True,download=True, transform=transform)\n",
        "trainloader = torch.utils.data.DataLoader(trainset, batch_size=64, shuffle=True)\n",
        "\n",
        "testset = torchvision.datasets.CIFAR10(root='./data', train=False, download=True, transform=transform)\n",
        "testloader = torch.utils.data.DataLoader(testset, batch_size=64, shuffle=False)\n",
        "\n",
        "# Define the model\n",
        "model = nn.Sequential(\n",
        "    nn.Linear(3 * 32 * 32, 512),\n",
        "    nn.Tanh(),\n",
        "    nn.Linear(512, 10),\n",
        "    nn.LogSoftmax(dim=1)\n",
        ")\n",
        "\n",
        "# Define loss function and optimizer\n",
        "loss_fn = nn.NLLLoss()\n",
        "optimizer = optim.SGD(model.parameters(), lr=1e-2)\n",
        "\n",
        "# Training loop\n",
        "n_epochs = 100\n",
        "start_time = time.time()\n",
        "\n",
        "for epoch in range(n_epochs):\n",
        "    total_loss = 0\n",
        "    for imgs, labels in trainloader:\n",
        "        outputs = model(imgs.view(imgs.size(0), -1))\n",
        "        loss = loss_fn(outputs, labels)\n",
        "\n",
        "        optimizer.zero_grad()\n",
        "        loss.backward()\n",
        "        optimizer.step()\n",
        "\n",
        "        total_loss += loss.item()\n",
        "\n",
        "    avg_loss = total_loss / len(trainloader)\n",
        "    print(f\"Epoch: {epoch}, Average Loss: {avg_loss}\")\n",
        "\n",
        "training_time = time.time() - start_time\n",
        "print(f\"Training completed in {training_time:.2f} seconds.\")\n",
        "\n",
        "# Evaluate the network\n",
        "correct = 0\n",
        "total = 0\n",
        "with torch.no_grad():\n",
        "    for imgs, labels in testloader:\n",
        "        outputs = model(imgs.view(imgs.size(0), -1))\n",
        "        _, predicted = torch.max(outputs, 1)\n",
        "        total += labels.size(0)\n",
        "        correct += (predicted == labels).sum().item()\n",
        "\n",
        "accuracy = 100 * correct / total\n",
        "print(f'Accuracy of the network on the test images: {accuracy:.2f} %')"
      ]
    },
    {
      "cell_type": "code",
      "execution_count": null,
      "metadata": {
        "colab": {
          "background_save": true
        },
        "id": "Kx_L6_X5U_7l"
      },
      "outputs": [],
      "source": []
    },
    {
      "cell_type": "code",
      "execution_count": null,
      "metadata": {
        "colab": {
          "background_save": true
        },
        "id": "P0xAtKszVAmK"
      },
      "outputs": [],
      "source": []
    },
    {
      "cell_type": "code",
      "execution_count": null,
      "metadata": {
        "colab": {
          "background_save": true
        },
        "id": "Ek4Th16kVDPX"
      },
      "outputs": [],
      "source": []
    },
    {
      "cell_type": "code",
      "execution_count": null,
      "metadata": {
        "colab": {
          "background_save": true
        },
        "id": "zaj3i36VYb_F"
      },
      "outputs": [],
      "source": []
    }
  ],
  "metadata": {
    "colab": {
      "provenance": [],
      "authorship_tag": "ABX9TyMGV5K/1NgeDJhOhtfrW5ZG",
      "include_colab_link": true
    },
    "kernelspec": {
      "display_name": "Python 3",
      "name": "python3"
    },
    "language_info": {
      "name": "python"
    }
  },
  "nbformat": 4,
  "nbformat_minor": 0
}